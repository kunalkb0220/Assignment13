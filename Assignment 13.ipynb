{
 "cells": [
  {
   "cell_type": "code",
   "execution_count": null,
   "id": "79b728e6",
   "metadata": {},
   "outputs": [],
   "source": [
    "1. What advantages do Excel spreadsheets have over CSV spreadsheets?\n",
    "\n",
    "\n",
    "While Excel (XLS and XLSX) file formats are better for storing more complex data, \n",
    "CSV files are supported by nearly all data upload interfaces.\n",
    "Excel can perform VBA Coding, functions, formulas and create summaries easily when compared to CSV.\n",
    "Reading large data set is much easier for the end-user to read, comprehend and understand when compared to CSV.\n",
    "Excel also provides the user option for external linking of data from other sources, and also, the user can do custom add-ins.\n"
   ]
  },
  {
   "cell_type": "code",
   "execution_count": null,
   "id": "4fbc5f01",
   "metadata": {},
   "outputs": [],
   "source": [
    "2.What do you pass to csv.reader() and csv.writer() to create reader and writer objects?\n",
    "\n",
    "The csv module's reader and writer objects read and write sequences. \n",
    "Programmers can also read and write data in dictionary form using the DictReader and DictWriter classes.\n"
   ]
  },
  {
   "cell_type": "code",
   "execution_count": null,
   "id": "fcffad8c",
   "metadata": {},
   "outputs": [],
   "source": [
    "3. What modes do File objects for reader and writer objects need to be opened in?\n",
    "\n",
    "Here mode means the operation for which the file has to be opened like <r> for reading, \n",
    "<w> for writing, <+> for both reading and writing, <a> for appending at the end of an existing file. \n",
    "The default is the read mode. In addition, we can specify whether the file will be handled as binary (<b>) or text mode.\n"
   ]
  },
  {
   "cell_type": "code",
   "execution_count": null,
   "id": "7a8c30dc",
   "metadata": {},
   "outputs": [],
   "source": [
    "4. What method takes a list argument and writes it to a CSV file?\n",
    "\n",
    "A CSV file is a bounded text format which uses a comma to separate values. \n",
    "The most common method to write data from a list to CSV file is the writerow() method of writer and DictWriter class\n"
   ]
  },
  {
   "cell_type": "code",
   "execution_count": null,
   "id": "d16edc15",
   "metadata": {},
   "outputs": [],
   "source": [
    "5. What do the keyword arguments delimiter and line terminator do?\n",
    "\n",
    "The line terminator is the character that comes at the end of a row. By default, the line terminator is a newline. \n",
    "You can change characters to different values by using the delimiter and lineterminator keyword arguments with csv. writer().\n"
   ]
  },
  {
   "cell_type": "code",
   "execution_count": null,
   "id": "263ea976",
   "metadata": {},
   "outputs": [],
   "source": [
    "6. What function takes a string of JSON data and returns a Python data structure?\n",
    "\n",
    "loads() method return Python data structure of JSON string or data.\n"
   ]
  },
  {
   "cell_type": "code",
   "execution_count": null,
   "id": "acd15439",
   "metadata": {},
   "outputs": [],
   "source": [
    "7. What function takes a Python data structure and returns a string of JSON data?\n",
    "\n",
    "If you have a Python object, you can convert it into a JSON string by using the json.dumps() method.\n"
   ]
  }
 ],
 "metadata": {
  "kernelspec": {
   "display_name": "Python 3",
   "language": "python",
   "name": "python3"
  },
  "language_info": {
   "codemirror_mode": {
    "name": "ipython",
    "version": 3
   },
   "file_extension": ".py",
   "mimetype": "text/x-python",
   "name": "python",
   "nbconvert_exporter": "python",
   "pygments_lexer": "ipython3",
   "version": "3.8.8"
  }
 },
 "nbformat": 4,
 "nbformat_minor": 5
}
